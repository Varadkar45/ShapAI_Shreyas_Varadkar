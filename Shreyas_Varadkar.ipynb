{
  "nbformat": 4,
  "nbformat_minor": 0,
  "metadata": {
    "colab": {
      "name": "Shreyash_Yadav.ipynb",
      "provenance": [],
      "collapsed_sections": []
    },
    "kernelspec": {
      "name": "python3",
      "display_name": "Python 3"
    },
    "language_info": {
      "name": "python"
    }
  },
  "cells": [
    {
      "cell_type": "code",
      "metadata": {
        "colab": {
          "base_uri": "https://localhost:8080/"
        },
        "id": "bx5WzLZu8FdF",
        "outputId": "4b28ad12-7d20-4569-d06a-1f3b2c275cc7"
      },
      "source": [
        "from keras.datasets import mnist\n",
        "\n",
        "data = mnist. load_data()\n",
        "\n",
        "((X_train, y_train), (X_test, y_test)) = data\n",
        "\n",
        "X_train = X_train. reshape((X_train.shape [0], 28*28)).astype('float32') \n",
        "\n",
        "X_test=X_test. reshape((X_test. shape [0], 28*28)).astype('float32')\n",
        "\n",
        "X_train=X_train / 255 \n",
        "\n",
        "X_test=X_test / 255\n",
        "\n",
        "from keras.utils import np_utils\n",
        "\n",
        "print(y_test.shape)\n",
        "\n",
        "y_train = np_utils.to_categorical (y_train) \n",
        "\n",
        "y_test = np_utils.to_categorical (y_test)\n",
        "\n",
        "num_classes = y_test.shape [1] \n",
        "\n",
        "print(y_test.shape)\n",
        "\n",
        "from keras.models import Sequential \n",
        "from keras.layers import Dense\n",
        "\n",
        "model=Sequential() \n",
        "\n",
        "model.add(Dense(32, input_dim = 28*28, activation='relu'))\n",
        "\n",
        "model.add(Dense(64, activation='relu')) \n",
        "\n",
        "model.add(Dense(10, activation='softmax'))\n",
        "\n",
        "model.compile(loss='categorical_crossentropy', optimizer='adam', metrics=['accuracy'])\n",
        "\n",
        "model.summary()\n",
        "\n",
        "model.fit(X_train, y_train, epochs=10, batch_size=100)\n",
        "\n",
        "scores = model.evaluate(X_test, y_test)\n",
        "\n",
        "print (scores)"
      ],
      "execution_count": 9,
      "outputs": [
        {
          "output_type": "stream",
          "text": [
            "(10000,)\n",
            "(10000, 10)\n",
            "Model: \"sequential_3\"\n",
            "_________________________________________________________________\n",
            "Layer (type)                 Output Shape              Param #   \n",
            "=================================================================\n",
            "dense_9 (Dense)              (None, 32)                25120     \n",
            "_________________________________________________________________\n",
            "dense_10 (Dense)             (None, 64)                2112      \n",
            "_________________________________________________________________\n",
            "dense_11 (Dense)             (None, 10)                650       \n",
            "=================================================================\n",
            "Total params: 27,882\n",
            "Trainable params: 27,882\n",
            "Non-trainable params: 0\n",
            "_________________________________________________________________\n",
            "Epoch 1/10\n",
            "600/600 [==============================] - 2s 2ms/step - loss: 0.7863 - accuracy: 0.7635\n",
            "Epoch 2/10\n",
            "600/600 [==============================] - 1s 2ms/step - loss: 0.2032 - accuracy: 0.9406\n",
            "Epoch 3/10\n",
            "600/600 [==============================] - 1s 2ms/step - loss: 0.1605 - accuracy: 0.9534\n",
            "Epoch 4/10\n",
            "600/600 [==============================] - 1s 2ms/step - loss: 0.1313 - accuracy: 0.9615\n",
            "Epoch 5/10\n",
            "600/600 [==============================] - 1s 2ms/step - loss: 0.1057 - accuracy: 0.9680\n",
            "Epoch 6/10\n",
            "600/600 [==============================] - 1s 2ms/step - loss: 0.0939 - accuracy: 0.9717\n",
            "Epoch 7/10\n",
            "600/600 [==============================] - 1s 2ms/step - loss: 0.0859 - accuracy: 0.9747\n",
            "Epoch 8/10\n",
            "600/600 [==============================] - 1s 2ms/step - loss: 0.0764 - accuracy: 0.9771\n",
            "Epoch 9/10\n",
            "600/600 [==============================] - 1s 2ms/step - loss: 0.0710 - accuracy: 0.9777\n",
            "Epoch 10/10\n",
            "600/600 [==============================] - 1s 2ms/step - loss: 0.0635 - accuracy: 0.9804\n",
            "313/313 [==============================] - 0s 923us/step - loss: 0.1234 - accuracy: 0.9626\n",
            "[0.1233830451965332, 0.9625999927520752]\n"
          ],
          "name": "stdout"
        }
      ]
    }
  ]
}